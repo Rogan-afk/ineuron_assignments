{
 "cells": [
  {
   "cell_type": "code",
   "execution_count": null,
   "id": "7cbad1d1",
   "metadata": {},
   "outputs": [],
   "source": [
    "#1.Create the below pattern using nested for loop in Python.\n",
    "\n",
    "\"\"\"\n",
    "\n",
    "\n",
    "*\n",
    "* *\n",
    "* * *\n",
    "* * * *\n",
    "* * * * *\n",
    "* * * *\n",
    "* * *\n",
    "* *\n",
    "*\n",
    "\n",
    "\n",
    "\"\"\""
   ]
  },
  {
   "cell_type": "code",
   "execution_count": 7,
   "id": "f2958795",
   "metadata": {},
   "outputs": [
    {
     "name": "stdout",
     "output_type": "stream",
     "text": [
      "\n",
      "* \n",
      "* * \n",
      "* * * \n",
      "* * * * \n",
      "* * * * * \n",
      "* * * * \n",
      "* * * \n",
      "* * \n",
      "* \n"
     ]
    }
   ],
   "source": [
    "#adhering to the assignment (\"using a nested for loop\")\n",
    "for i in range (0,5):\n",
    "    print(\"* \" * i)\n",
    "    if i == 4:\n",
    "        for j in range(5,0,-1):\n",
    "            print(\"* \" * j)"
   ]
  },
  {
   "cell_type": "code",
   "execution_count": null,
   "id": "699b47f8",
   "metadata": {},
   "outputs": [],
   "source": [
    "\"\"\"\n",
    "#2.Write a Python program to reverse a word after accepting the input from the user.\n",
    "Input word: ineuron\n",
    "Output: norueni\n",
    "\"\"\"\""
   ]
  },
  {
   "cell_type": "code",
   "execution_count": 127,
   "id": "4bc9e407",
   "metadata": {},
   "outputs": [
    {
     "name": "stdout",
     "output_type": "stream",
     "text": [
      "Input word :ineuron\n",
      "Output: norueni\n"
     ]
    }
   ],
   "source": [
    "input_1 = input(\"Input word :\")\n",
    "print(f\"Output: {input_1[::-1]}\")"
   ]
  }
 ],
 "metadata": {
  "kernelspec": {
   "display_name": "Python 3",
   "language": "python",
   "name": "python3"
  },
  "language_info": {
   "codemirror_mode": {
    "name": "ipython",
    "version": 3
   },
   "file_extension": ".py",
   "mimetype": "text/x-python",
   "name": "python",
   "nbconvert_exporter": "python",
   "pygments_lexer": "ipython3",
   "version": "3.8.8"
  }
 },
 "nbformat": 4,
 "nbformat_minor": 5
}

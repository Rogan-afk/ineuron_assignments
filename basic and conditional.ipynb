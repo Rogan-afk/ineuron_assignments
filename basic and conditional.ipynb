{
 "cells": [
  {
   "cell_type": "code",
   "execution_count": null,
   "id": "481668be",
   "metadata": {},
   "outputs": [],
   "source": [
    "\"\"\"\n",
    "1. A program which will find all such numbers divisible by 7 but are not a multiple of 5, \n",
    "\n",
    "between 2000 and 3000 (both included). The numbers obtained should be printed\n",
    "in a comma-separated sequence on a single line.\n",
    "\n",
    "\"\"\"\n"
   ]
  },
  {
   "cell_type": "code",
   "execution_count": 40,
   "id": "6b09e2a6",
   "metadata": {
    "scrolled": true
   },
   "outputs": [
    {
     "name": "stdout",
     "output_type": "stream",
     "text": [
      "2002,2009,2016,2023,2037,2044,2051,2058,2072,2079,2086,2093,2107,2114,2121,2128,2142,2149,2156,2163,2177,2184,2191,2198,2212,2219,2226,2233,2247,2254,2261,2268,2282,2289,2296,2303,2317,2324,2331,2338,2352,2359,2366,2373,2387,2394,2401,2408,2422,2429,2436,2443,2457,2464,2471,2478,2492,2499,2506,2513,2527,2534,2541,2548,2562,2569,2576,2583,2597,2604,2611,2618,2632,2639,2646,2653,2667,2674,2681,2688,2702,2709,2716,2723,2737,2744,2751,2758,2772,2779,2786,2793,2807,2814,2821,2828,2842,2849,2856,2863,2877,2884,2891,2898,2912,2919,2926,2933,2947,2954,2961,2968,2982,2989,2996,"
     ]
    }
   ],
   "source": [
    "a = list()\n",
    "\n",
    "for itervar in range(2000,3001):\n",
    "    if itervar % 7 == 0 and itervar % 5 != 0: \n",
    "        print(itervar, end = \",\")\n",
    "        a.append(itervar)\n",
    "        \n",
    "\n",
    "\n",
    "#or\n"
   ]
  },
  {
   "cell_type": "code",
   "execution_count": null,
   "id": "a6b27ad8",
   "metadata": {},
   "outputs": [],
   "source": [
    "# Alternative using lists"
   ]
  },
  {
   "cell_type": "code",
   "execution_count": 43,
   "id": "816686fe",
   "metadata": {},
   "outputs": [
    {
     "name": "stdout",
     "output_type": "stream",
     "text": [
      "2002,2009,2016,2023,2037,2044,2051,2058,2072,2079,2086,2093,2107,2114,2121,2128,2142,2149,2156,2163,2177,2184,2191,2198,2212,2219,2226,2233,2247,2254,2261,2268,2282,2289,2296,2303,2317,2324,2331,2338,2352,2359,2366,2373,2387,2394,2401,2408,2422,2429,2436,2443,2457,2464,2471,2478,2492,2499,2506,2513,2527,2534,2541,2548,2562,2569,2576,2583,2597,2604,2611,2618,2632,2639,2646,2653,2667,2674,2681,2688,2702,2709,2716,2723,2737,2744,2751,2758,2772,2779,2786,2793,2807,2814,2821,2828,2842,2849,2856,2863,2877,2884,2891,2898,2912,2919,2926,2933,2947,2954,2961,2968,2982,2989,2996\n"
     ]
    }
   ],
   "source": [
    "\n",
    "a = list()\n",
    "\n",
    "for itervar in range(2000,3001):\n",
    "    if itervar % 7 == 0 and itervar % 5 != 0: \n",
    "        #print(itervar, end = \",\")\n",
    "        a.append(itervar)\n",
    "print(*a, sep = \",\")\n"
   ]
  },
  {
   "cell_type": "code",
   "execution_count": null,
   "id": "585945de",
   "metadata": {},
   "outputs": [],
   "source": [
    "\"\"\"\n",
    "2.Write a Python program to accept the user's first and last name and \n",
    "then getting them printed in the the reverse order with a space between first name and last name\n",
    "\"\"\""
   ]
  },
  {
   "cell_type": "code",
   "execution_count": 58,
   "id": "35d5df1a",
   "metadata": {},
   "outputs": [
    {
     "name": "stdout",
     "output_type": "stream",
     "text": [
      "This program will reverse your entire name\n",
      "Enter your first name\n",
      "nithin \n",
      "Enter your last name\n",
      "rogan \n",
      "your reversed name is nagor nihtin\n"
     ]
    }
   ],
   "source": [
    "print(\"This program will reverse your entire name\")\n",
    "first_n = input(\"Enter your first name\\n\")\n",
    "last_n = input(\"Enter your last name\\n\")\n",
    "full_n = first_n + \" \" +last_n\n",
    "print(f\"your reversed name is {full_n[::-1]}\")\n"
   ]
  },
  {
   "cell_type": "code",
   "execution_count": null,
   "id": "a3f9f4c9",
   "metadata": {},
   "outputs": [],
   "source": [
    "\"\"\"\n",
    "Write a Python program to find the volume of a sphere with diameter 12 cm.\n",
    "\n",
    "Formula: V=4/3 * π * r^3\n",
    "\n",
    "\"\"\""
   ]
  },
  {
   "cell_type": "code",
   "execution_count": 61,
   "id": "70a7c59f",
   "metadata": {},
   "outputs": [
    {
     "name": "stdout",
     "output_type": "stream",
     "text": [
      "volume is 905 is cubic centimeters\n"
     ]
    }
   ],
   "source": [
    "import math\n",
    "\n",
    "dia_1 = \"12cm\"\n",
    "dia_n = int(dia_1[0:2])\n",
    "volume = (4/3 * math.pi * ((dia_n)//2) ** 3)\n",
    "print(f\"volume is {math.ceil(volume)} is cubic centimeters\")\n"
   ]
  },
  {
   "cell_type": "code",
   "execution_count": null,
   "id": "7b0a26e9",
   "metadata": {},
   "outputs": [],
   "source": []
  }
 ],
 "metadata": {
  "kernelspec": {
   "display_name": "Python 3",
   "language": "python",
   "name": "python3"
  },
  "language_info": {
   "codemirror_mode": {
    "name": "ipython",
    "version": 3
   },
   "file_extension": ".py",
   "mimetype": "text/x-python",
   "name": "python",
   "nbconvert_exporter": "python",
   "pygments_lexer": "ipython3",
   "version": "3.8.8"
  }
 },
 "nbformat": 4,
 "nbformat_minor": 5
}

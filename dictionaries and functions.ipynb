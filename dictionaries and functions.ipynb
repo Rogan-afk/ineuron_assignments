{
 "cells": [
  {
   "cell_type": "code",
   "execution_count": 27,
   "id": "dfe535a5",
   "metadata": {},
   "outputs": [
    {
     "name": "stdout",
     "output_type": "stream",
     "text": [
      "a=15\n",
      "b=16\n",
      "c=7\n",
      "area : 52.306787322488084\n"
     ]
    }
   ],
   "source": [
    "#solution 1.1\n",
    "\n",
    "class poly:\n",
    "    def __init__(self,a,b,c):\n",
    "        self.a = float(a)\n",
    "        self.b = float(b)\n",
    "        self.c = float(c)\n",
    "a= int(input(\"a=\"))\n",
    "b= int(input(\"b=\"))\n",
    "c= int(input(\"c=\"))\n",
    "\n",
    "class triangle(poly):\n",
    "    def __init__(self,a,b,c):\n",
    "        super().__init__(a,b,c)\n",
    "\n",
    "    def get_area(self):\n",
    "        s = (a + b + c) / 2\n",
    "        return (s*(s-a)*(s-b)*(s-c)) ** 0.5        \n",
    "\n",
    "t = triangle(a,b,c)\n",
    "print(\"area : {}\".format(t.get_area()))\n",
    "    \n",
    "\n",
    "\n",
    "        \n",
    "        \n",
    "    \n",
    "    \n",
    "    \n",
    "        "
   ]
  },
  {
   "cell_type": "code",
   "execution_count": 65,
   "id": "3a3fe862",
   "metadata": {},
   "outputs": [
    {
     "name": "stdout",
     "output_type": "stream",
     "text": [
      "['ineuron', 'arigato', 'bonjour', 'supercalifraglisticexpialidocious']\n"
     ]
    }
   ],
   "source": [
    "#solution 1.2\n",
    "\n",
    "word_list = [\"cat\",\"four\",\"ineuron\",\"arigato\",\"bonjour\",\"supercalifraglisticexpialidocious\"] \n",
    "n1 = 4\n",
    "\n",
    " \n",
    "def filter_long_words(word_list,n1):\n",
    "    return [x for x in word_list if len(x) > n1]\n",
    "\n",
    "\n",
    "c = filter_long_words(word_list,n1)\n",
    "print(c)\n"
   ]
  },
  {
   "cell_type": "code",
   "execution_count": 71,
   "id": "eccc778d",
   "metadata": {},
   "outputs": [
    {
     "name": "stdout",
     "output_type": "stream",
     "text": [
      "[2, 3, 4]\n"
     ]
    }
   ],
   "source": [
    "#solution 2.1\n",
    "\n",
    "list_1 = [\"ab\", \"cde\", \"erty\"]\n",
    "\n",
    "c = list(map(lambda x:len(x),list_1))\n",
    "print(c)"
   ]
  },
  {
   "cell_type": "code",
   "execution_count": 98,
   "id": "ece6a3f1",
   "metadata": {},
   "outputs": [
    {
     "name": "stdout",
     "output_type": "stream",
     "text": [
      "True\n",
      "False\n"
     ]
    }
   ],
   "source": [
    "#solution 2.2\n",
    "character_1 = \"a\"\n",
    "character_2 = \"b\"\n",
    "\n",
    "def check_vowel(character):\n",
    "    vowels = [\"a\",\"e\",\"i\",\"o\",\"u\"]\n",
    "    for sub_string in character:\n",
    "        if sub_string in vowels:\n",
    "            return True\n",
    "        elif sub_string not in vowels:\n",
    "            return False\n",
    "print(check_vowel(character_1))\n",
    "\n",
    "print(check_vowel(character_2))\n"
   ]
  },
  {
   "cell_type": "code",
   "execution_count": null,
   "id": "06c1a3bc",
   "metadata": {},
   "outputs": [],
   "source": []
  }
 ],
 "metadata": {
  "kernelspec": {
   "display_name": "Python 3",
   "language": "python",
   "name": "python3"
  },
  "language_info": {
   "codemirror_mode": {
    "name": "ipython",
    "version": 3
   },
   "file_extension": ".py",
   "mimetype": "text/x-python",
   "name": "python",
   "nbconvert_exporter": "python",
   "pygments_lexer": "ipython3",
   "version": "3.8.8"
  }
 },
 "nbformat": 4,
 "nbformat_minor": 5
}
